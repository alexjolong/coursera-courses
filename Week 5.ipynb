{
 "cells": [
  {
   "cell_type": "markdown",
   "metadata": {},
   "source": [
    "# Week 5\n",
    "## Cost Function and Backpropogation\n",
    "### Cost Function\n",
    "\n",
    "### Backpropogation Algorithm\n",
    "For one training example (x,y):\n",
    "compute the activation values for each node in the first layer\n",
    "compute the second layer input values z = theta * a\n",
    "Do this for every layer\n",
    "\"Backpropogation\" - for each node j in layer y, we will calculate the error from our desired activation.\n",
    "    Note that for the last layer, this error is just the value minus the actual value of the training example (y). However, for earlier layers, the error is the value minus the desired input to the next layer. Also note that the first layer doesn't have any error (how could it be incorrect? these are the inputs).\n",
    "    \n",
    "For all m training examples (xi, yi):\n",
    "Build an array of deltas, initially 0, for all i j and m.\n",
    "do forward propogation\n",
    "use yi to do backpropogation on the network for one example.\n",
    "Delta\\[i,j\\] for one example is the activation of that node times the error of the next layer.\n",
    "\n",
    "We multiply the theta matrix of layer l and the delta values of the next layer, in order to compute the delta values of layer l.\n",
    "Then we do element-wise multiplication of the result with the derivative of the activation values for that layer. \n",
    "With vectorization, we compute this derivative by multiplying the delta values of layer l+1 with the transpose of the activation of l. delta(l+1) * a(l)'\n",
    "We accumulate these derivatives in a Delta matrix given by 1/m(delta\\[i,j,l\\] + lambda * theta\\[i,j,l\\]). We drop the theta term if j=0 (first layer).\n",
    "\n",
    "### Backpropogation Intuition\n",
    "I thought I understood backpropogation. In fact, I was a bumbling fool.\n",
    "\n",
    " "
   ]
  }
 ],
 "metadata": {
  "kernelspec": {
   "display_name": "Python 3",
   "language": "python",
   "name": "python3"
  },
  "language_info": {
   "codemirror_mode": {
    "name": "ipython",
    "version": 3
   },
   "file_extension": ".py",
   "mimetype": "text/x-python",
   "name": "python",
   "nbconvert_exporter": "python",
   "pygments_lexer": "ipython3",
   "version": "3.5.4"
  }
 },
 "nbformat": 4,
 "nbformat_minor": 2
}
