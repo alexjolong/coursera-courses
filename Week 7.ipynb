{
 "cells": [
  {
   "cell_type": "markdown",
   "metadata": {},
   "source": [
    "# Week 7\n",
    "## Large Margin Classification\n",
    "### Optimization Objective (14)\n",
    "I'm actual excited to learn about support vector machines because I want to do work with generative neural networks.\n",
    "\n",
    "Take logistic regression, except replace the (-log(h(xi))) term with cost1(theta' xi) and cost0(theta' xi) accordingly.\n",
    "\n",
    "SVM doesn't output probability, it gives 1 if theta'x >= 0 or 0 otherwise.\n",
    "\n",
    "### Large Margin Intuition (10)\n",
    "\n",
    "\n",
    "### Mathematics Behind Large Margin Classification (19)\n",
    "\n",
    "\n",
    "## Kernels\n",
    "### Kernels I (15)\n",
    "\n",
    "\n",
    "### Kernels II (15)\n",
    "\n",
    "\n",
    "## SVMs in Practice\n",
    "### Using an SVM (21)\n",
    "\n",
    "\n",
    "\n",
    "## Quiz"
   ]
  }
 ],
 "metadata": {
  "kernelspec": {
   "display_name": "Python 3",
   "language": "python",
   "name": "python3"
  },
  "language_info": {
   "codemirror_mode": {
    "name": "ipython",
    "version": 3
   },
   "file_extension": ".py",
   "mimetype": "text/x-python",
   "name": "python",
   "nbconvert_exporter": "python",
   "pygments_lexer": "ipython3",
   "version": "3.5.4"
  }
 },
 "nbformat": 4,
 "nbformat_minor": 2
}
