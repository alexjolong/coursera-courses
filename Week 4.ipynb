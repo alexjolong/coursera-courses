{
 "cells": [
  {
   "cell_type": "markdown",
   "metadata": {},
   "source": [
    "# Week 4\n",
    "## Motivations\n",
    "### Non-linear Hypothesis\n",
    "With many variables in your problem, your number of features grows exponentially.\n",
    "\n",
    "Most machine learning problems have a lot of variables. Example: computer vision, identifying a car. 2500 pixels * 3 for rgb. With all quadratic permutations, there would be 3 million features.\n",
    "\n",
    "Neural networks are good for identifying complex classifications (when n is very large)\n",
    "\n",
    "### Neurons and the brain\n",
    "Brain seems to work on one single \"learning algorithm\". Or at least very similar variations of the one.\n",
    "\n",
    "\n",
    "## Neural Networks (I'm effing pumped)\n",
    "### Model Representation I\n",
    "\n",
    "\n",
    "### Model Representation II\n",
    "\n",
    "\n",
    "## Applications\n",
    "### Examples and Intuitions I\n",
    "\n",
    "\n",
    "\n",
    "### Examples and Intuitions II\n",
    "\n",
    "\n",
    "\n",
    "### Multiclass Classification\n",
    "\n",
    "\n",
    "## Quiz\n",
    "\n",
    "## Programming Assignment"
   ]
  }
 ],
 "metadata": {
  "kernelspec": {
   "display_name": "Python 3",
   "language": "python",
   "name": "python3"
  },
  "language_info": {
   "codemirror_mode": {
    "name": "ipython",
    "version": 3
   },
   "file_extension": ".py",
   "mimetype": "text/x-python",
   "name": "python",
   "nbconvert_exporter": "python",
   "pygments_lexer": "ipython3",
   "version": "3.5.4"
  }
 },
 "nbformat": 4,
 "nbformat_minor": 2
}
