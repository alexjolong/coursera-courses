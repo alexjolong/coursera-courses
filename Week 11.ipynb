{
 "cells": [
  {
   "cell_type": "markdown",
   "metadata": {},
   "source": [
    "# Photo OCR\n",
    "## Problem Description and Pipeline\n",
    "Photo Optical Character Recognition\n",
    " - How to understand the content in images. How can we read text from an image taken in the real world?\n",
    "\n",
    "Steps:\n",
    "1. Given the picture, look at the image and figure out where the text is\n",
    "2. Character segmentation (looking at the block of text, get the characters)\n",
    "3. Character recognition (looking at a character, what is it?)\n",
    "\n",
    "Scanned documents are easy, but photographs are still considered difficult (as of 2013, probably not today)\n",
    "\n",
    "\n",
    "## Sliding Windows\n",
    "For recognizing pedestrians, we can take a rectangular patch (window) and run it across the image. A model trained on windowed pedestrians can then detect the location of people in the original image.\n",
    "\n",
    "- Same principal for text detection.\n",
    "- Usually, areas next to areas with text may also have text.\n",
    "\n",
    "Basically the same principal for character segmentation a well. Train a model on \"spaces\" between characters. Then slide a window across the text segment and find spaces.\n",
    "\n",
    "## Getting lots of data and artificial data\n",
    "You can use \"synthetic\" data generated from fonts, for example. You can also artificially warp these images, and get a bunch of new slightly different examples.\n",
    "\n",
    "\n",
    "\n",
    "## Ceiling Analysis: what part of the pipeline to work on next\n",
    "Manually simulate parts of the pipeline, in order to see which \"perfect\" part most increases your accuracy.\n",
    " - I feel like we could do better than this. Maybe some visualization tools to see the output of each part of the pipeline? Or just look at what it is classifying, you should be able to see it fail on some part or another.\n",
    "\n",
    "## Quiz\n",
    "4/5 (80%)\n",
    "\n",
    "\n",
    "# Conclusion\n"
   ]
  }
 ],
 "metadata": {
  "kernelspec": {
   "display_name": "Python 3",
   "language": "python",
   "name": "python3"
  },
  "language_info": {
   "codemirror_mode": {
    "name": "ipython",
    "version": 3
   },
   "file_extension": ".py",
   "mimetype": "text/x-python",
   "name": "python",
   "nbconvert_exporter": "python",
   "pygments_lexer": "ipython3",
   "version": "3.5.4"
  }
 },
 "nbformat": 4,
 "nbformat_minor": 2
}
