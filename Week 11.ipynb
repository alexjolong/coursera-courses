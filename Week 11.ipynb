{
 "cells": [
  {
   "cell_type": "markdown",
   "metadata": {},
   "source": [
    "# Photo OCR\n",
    "## Problem Description and Pipeline\n",
    "\n",
    "\n",
    "\n",
    "\n",
    "## Sliding Windows\n",
    "\n",
    "\n",
    "\n",
    "\n",
    "## Getting lots of data and artificial data\n",
    "\n",
    "\n",
    "\n",
    "\n",
    "## Ceiling Analysis: what part of the pipeline to work on next\n",
    "\n",
    "\n",
    "\n",
    "\n",
    "\n",
    "# Conclusion"
   ]
  }
 ],
 "metadata": {
  "kernelspec": {
   "display_name": "Python 3",
   "language": "python",
   "name": "python3"
  },
  "language_info": {
   "codemirror_mode": {
    "name": "ipython",
    "version": 3
   },
   "file_extension": ".py",
   "mimetype": "text/x-python",
   "name": "python",
   "nbconvert_exporter": "python",
   "pygments_lexer": "ipython3",
   "version": "3.5.4"
  }
 },
 "nbformat": 4,
 "nbformat_minor": 2
}
